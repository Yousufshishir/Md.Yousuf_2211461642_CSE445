{
 "cells": [
  {
   "cell_type": "markdown",
   "id": "33006f20",
   "metadata": {},
   "source": [
    "#  Mini Project 1\n",
    "### operations that I have performed\n",
    "- Load collected data from CSV\n",
    "- Applied **K-Means clustering** to label the data\n",
    "- Trained **SVM** and **Decision Tree** classifiers\n",
    "- Visualized results and confusion matrices\n",
    "- Saved labeled dataset and output plots"
   ]
  },
  {
   "cell_type": "markdown",
   "id": "4801d6e9",
   "metadata": {},
   "source": [
    "## First I have imported required libraries"
   ]
  },
  {
   "cell_type": "code",
   "execution_count": null,
   "id": "96bd7d87",
   "metadata": {},
   "outputs": [],
   "source": [
    "import pandas as pd\n",
    "import matplotlib.pyplot as plt\n",
    "import seaborn as sns\n",
    "import os\n",
    "\n",
    "from sklearn.preprocessing import StandardScaler\n",
    "from sklearn.cluster import KMeans\n",
    "from sklearn.svm import SVC\n",
    "from sklearn.tree import DecisionTreeClassifier, plot_tree\n",
    "from sklearn.metrics import confusion_matrix, ConfusionMatrixDisplay, accuracy_score\n",
    "from sklearn.model_selection import train_test_split\n",
    "\n",
    "# This is outputs folder\n",
    "os.makedirs(\"outputs\", exist_ok=True)"
   ]
  },
  {
   "cell_type": "markdown",
   "id": "11a636a5",
   "metadata": {},
   "source": [
    "## Step 1: Then I have load my Dataset"
   ]
  },
  {
   "cell_type": "code",
   "execution_count": 21,
   "id": "cef2c1ad",
   "metadata": {},
   "outputs": [
    {
     "name": "stdout",
     "output_type": "stream",
     "text": [
      "Dataset loaded successfully.\n",
      "First few rows of the dataset:\n"
     ]
    },
    {
     "data": {
      "text/html": [
       "<div>\n",
       "<style scoped>\n",
       "    .dataframe tbody tr th:only-of-type {\n",
       "        vertical-align: middle;\n",
       "    }\n",
       "\n",
       "    .dataframe tbody tr th {\n",
       "        vertical-align: top;\n",
       "    }\n",
       "\n",
       "    .dataframe thead th {\n",
       "        text-align: right;\n",
       "    }\n",
       "</style>\n",
       "<table border=\"1\" class=\"dataframe\">\n",
       "  <thead>\n",
       "    <tr style=\"text-align: right;\">\n",
       "      <th></th>\n",
       "      <th>User_ID</th>\n",
       "      <th>Accuracy_Percent</th>\n",
       "      <th>Avg_Reaction_Time_Seconds</th>\n",
       "    </tr>\n",
       "  </thead>\n",
       "  <tbody>\n",
       "    <tr>\n",
       "      <th>0</th>\n",
       "      <td>1</td>\n",
       "      <td>90.6</td>\n",
       "      <td>1.32</td>\n",
       "    </tr>\n",
       "    <tr>\n",
       "      <th>1</th>\n",
       "      <td>2</td>\n",
       "      <td>86.2</td>\n",
       "      <td>1.58</td>\n",
       "    </tr>\n",
       "    <tr>\n",
       "      <th>2</th>\n",
       "      <td>3</td>\n",
       "      <td>95.7</td>\n",
       "      <td>1.15</td>\n",
       "    </tr>\n",
       "    <tr>\n",
       "      <th>3</th>\n",
       "      <td>4</td>\n",
       "      <td>78.3</td>\n",
       "      <td>1.89</td>\n",
       "    </tr>\n",
       "    <tr>\n",
       "      <th>4</th>\n",
       "      <td>5</td>\n",
       "      <td>92.0</td>\n",
       "      <td>1.28</td>\n",
       "    </tr>\n",
       "  </tbody>\n",
       "</table>\n",
       "</div>"
      ],
      "text/plain": [
       "   User_ID  Accuracy_Percent  Avg_Reaction_Time_Seconds\n",
       "0        1              90.6                       1.32\n",
       "1        2              86.2                       1.58\n",
       "2        3              95.7                       1.15\n",
       "3        4              78.3                       1.89\n",
       "4        5              92.0                       1.28"
      ]
     },
     "execution_count": 21,
     "metadata": {},
     "output_type": "execute_result"
    }
   ],
   "source": [
    "# this Loads dataset\n",
    "df = pd.read_csv(\"stroop_test_data.csv\")\n",
    "\n",
    "# this displays the first few rows of the dataset\n",
    "print(\"Dataset loaded successfully.\")\n",
    "print(\"First few rows of the dataset:\")\n",
    "df.head()"
   ]
  },
  {
   "cell_type": "markdown",
   "id": "768fad70",
   "metadata": {},
   "source": [
    "##  Step 2: Then I have featured selection & scaling"
   ]
  },
  {
   "cell_type": "code",
   "execution_count": null,
   "id": "8bd3ea40",
   "metadata": {},
   "outputs": [],
   "source": [
    "# this Selects features for clustering and classification\n",
    "# 'Accuracy_Percent' and 'Avg_Reaction_Time_Seconds' are the features\n",
    "X = df[[\"Accuracy_Percent\", \"Avg_Reaction_Time_Seconds\"]]\n",
    "\n",
    "# this Visualizes the dataset using a scatter plot\n",
    "scaler = StandardScaler()\n",
    "X_scaled = scaler.fit_transform(X)"
   ]
  },
  {
   "cell_type": "markdown",
   "id": "c4377c37",
   "metadata": {},
   "source": [
    "##  Step 3: Then I have applied K-Means clustering"
   ]
  },
  {
   "cell_type": "code",
   "execution_count": null,
   "id": "ca0a0285",
   "metadata": {},
   "outputs": [],
   "source": [
    "kmeans = KMeans(n_clusters=2, n_init=10, random_state=42)\n",
    "df[\"Cluster_Label\"] = kmeans.fit_predict(X_scaled)\n",
    "\n",
    "# this Visualizes the clusters\n",
    "df.head()"
   ]
  },
  {
   "cell_type": "markdown",
   "id": "83db8f50",
   "metadata": {},
   "source": [
    "##  Step 4: Then plotted functions to visualize clustered data"
   ]
  },
  {
   "cell_type": "code",
   "execution_count": null,
   "id": "b3134e87",
   "metadata": {},
   "outputs": [],
   "source": [
    "# this Visualizes the clustered data\n",
    "plt.figure(figsize=(6, 5))\n",
    "sns.scatterplot(data=df, x=\"Accuracy_Percent\", y=\"Avg_Reaction_Time_Seconds\",\n",
    "                hue=\"Cluster_Label\", palette='viridis', s=80)\n",
    "plt.title(\"Clustered Data\")\n",
    "plt.savefig(\"outputs/Data_Visualize.jpg\")\n",
    "plt.show()"
   ]
  },
  {
   "cell_type": "markdown",
   "id": "bb16af34",
   "metadata": {},
   "source": [
    "##  Step 5: Afetr that I have done Train/Test split"
   ]
  },
  {
   "cell_type": "code",
   "execution_count": null,
   "id": "04770fa4",
   "metadata": {},
   "outputs": [],
   "source": [
    "# this Prepares data for classification\n",
    "# Splitting the dataset into training and testing sets\n",
    "X_train, X_test, y_train, y_test = train_test_split(\n",
    "    X_scaled, df['Cluster_Label'], test_size=0.2, random_state=42\n",
    ")\n",
    "\n",
    "print(f\"Train size: {len(X_train)} | Test size: {len(X_test)}\")"
   ]
  },
  {
   "cell_type": "markdown",
   "id": "e5e1e3fc",
   "metadata": {},
   "source": [
    "##  Step 6: Then trained SVM classifier"
   ]
  },
  {
   "cell_type": "code",
   "execution_count": null,
   "id": "4b974abf",
   "metadata": {},
   "outputs": [],
   "source": [
    "\n",
    "svm = SVC(kernel='linear', random_state=42)\n",
    "svm.fit(X_train, y_train)\n",
    "pred_svm = svm.predict(X_test)\n",
    "\n",
    "# this is Confusion Matrix for SVM\n",
    "cm_svm = confusion_matrix(y_test, pred_svm)\n",
    "ConfusionMatrixDisplay(confusion_matrix=cm_svm).plot()\n",
    "plt.title(\"Confusion Matrix - SVM\")\n",
    "plt.savefig(\"outputs/Confusion_Matrix_SVM.jpg\")\n",
    "plt.show()\n",
    "\n",
    "print(\"✅ SVM Accuracy:\", accuracy_score(y_test, pred_svm))"
   ]
  },
  {
   "cell_type": "markdown",
   "id": "c53ab507",
   "metadata": {},
   "source": [
    "##  Step 7: Then I have trained Decision Tree Classifier"
   ]
  },
  {
   "cell_type": "code",
   "execution_count": null,
   "id": "061bf069",
   "metadata": {},
   "outputs": [],
   "source": [
    "# this is Decision Tree Classifier\n",
    "dt = DecisionTreeClassifier(random_state=42)\n",
    "dt.fit(X_train, y_train)\n",
    "pred_dt = dt.predict(X_test)\n",
    "\n",
    "#this is Confusion Matrix for Decision Tree\n",
    "cm_dt = confusion_matrix(y_test, pred_dt)\n",
    "ConfusionMatrixDisplay(confusion_matrix=cm_dt).plot()\n",
    "plt.title(\"Confusion Matrix - Decision Tree\")\n",
    "plt.savefig(\"outputs/Confusion_Matrix_DT.jpg\")\n",
    "plt.show()\n",
    "\n",
    "print(\"✅ Decision Tree Accuracy:\", accuracy_score(y_test, pred_dt))"
   ]
  },
  {
   "cell_type": "markdown",
   "id": "fe246e4b",
   "metadata": {},
   "source": [
    "##  Step 8: Then plotted to visualize Decision Tree"
   ]
  },
  {
   "cell_type": "code",
   "execution_count": null,
   "id": "d7af3d13",
   "metadata": {},
   "outputs": [],
   "source": [
    "# this Visualizes the Decision Tree\n",
    "plt.figure(figsize=(10, 6))\n",
    "plot_tree(dt,\n",
    "          feature_names=[\"Accuracy_Percent\", \"Avg_Reaction_Time_Seconds\"],\n",
    "          class_names=['Cluster 0', 'Cluster 1'],\n",
    "          filled=True)\n",
    "plt.title(\"Decision Tree\")\n",
    "plt.show()"
   ]
  },
  {
   "cell_type": "markdown",
   "id": "1bfe011f",
   "metadata": {},
   "source": [
    "## Step 9: Finally i have Saved Labeled Dataset"
   ]
  },
  {
   "cell_type": "code",
   "execution_count": null,
   "id": "8aecd163",
   "metadata": {},
   "outputs": [],
   "source": [
    "# this saves the labeled data to a new CSV file\n",
    "df.to_csv(\"stroop_test_data_labeled.csv\", index=False)\n",
    "print(\"Labeled data saved as stroop_test_data_labeled.csv\")"
   ]
  }
 ],
 "metadata": {
  "kernelspec": {
   "display_name": "Python 3",
   "language": "python",
   "name": "python3"
  },
  "language_info": {
   "codemirror_mode": {
    "name": "ipython",
    "version": 3
   },
   "file_extension": ".py",
   "mimetype": "text/x-python",
   "name": "python",
   "nbconvert_exporter": "python",
   "pygments_lexer": "ipython3",
   "version": "3.13.7"
  }
 },
 "nbformat": 4,
 "nbformat_minor": 5
}
